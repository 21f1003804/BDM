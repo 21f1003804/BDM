{
 "cells": [
  {
   "cell_type": "code",
   "execution_count": 4,
   "id": "6d2ae324",
   "metadata": {},
   "outputs": [
    {
     "name": "stdout",
     "output_type": "stream",
     "text": [
      "🚀 PRICE ELASTICITY & REGRESSION ANALYSIS\n",
      "============================================================\n",
      "📊 Loading Master Data...\n",
      "✓ Loaded 6,077,200 sales transactions\n",
      "📋 Preparing Analysis Datasets...\n",
      "  Computing price elasticity...\n",
      "✓ Prepared 5 analysis datasets + elasticity + multiple regression\n",
      "📈 Performing Regression Analysis...\n",
      "✓ Regression analysis completed\n",
      "📊 Creating Dashboard...\n",
      "✓ Dashboard saved as: price_elasticity_dashboard.html\n",
      "\n",
      "📊 Displaying Sample Chart...\n"
     ]
    },
    {
     "data": {
      "application/vnd.plotly.v1+json": {
       "config": {
        "plotlyServerURL": "https://plot.ly"
       },
       "data": [
        {
         "alignmentgroup": "True",
         "hovertemplate": "Country=%{x}<br>Price_Elasticity=%{text}<extra></extra>",
         "legendgroup": "",
         "marker": {
          "color": "#636efa",
          "pattern": {
           "shape": ""
          }
         },
         "name": "",
         "offsetgroup": "",
         "orientation": "v",
         "showlegend": false,
         "text": [
          0.0025,
          0.0144,
          0.001,
          0.0039,
          0.0242,
          0.0216,
          0.01
         ],
         "textposition": "outside",
         "texttemplate": "%{text:.4f}",
         "type": "bar",
         "x": [
          "China",
          "Germany",
          "Spain",
          "Portugal",
          "United States",
          "United Kingdom",
          "France"
         ],
         "xaxis": "x",
         "y": [
          0.0025,
          0.0144,
          0.001,
          0.0039,
          0.0242,
          0.0216,
          0.01
         ],
         "yaxis": "y"
        }
       ],
       "layout": {
        "barmode": "relative",
        "height": 400,
        "legend": {
         "tracegroupgap": 0
        },
        "template": {
         "data": {
          "bar": [
           {
            "error_x": {
             "color": "#2a3f5f"
            },
            "error_y": {
             "color": "#2a3f5f"
            },
            "marker": {
             "line": {
              "color": "#E5ECF6",
              "width": 0.5
             },
             "pattern": {
              "fillmode": "overlay",
              "size": 10,
              "solidity": 0.2
             }
            },
            "type": "bar"
           }
          ],
          "barpolar": [
           {
            "marker": {
             "line": {
              "color": "#E5ECF6",
              "width": 0.5
             },
             "pattern": {
              "fillmode": "overlay",
              "size": 10,
              "solidity": 0.2
             }
            },
            "type": "barpolar"
           }
          ],
          "carpet": [
           {
            "aaxis": {
             "endlinecolor": "#2a3f5f",
             "gridcolor": "white",
             "linecolor": "white",
             "minorgridcolor": "white",
             "startlinecolor": "#2a3f5f"
            },
            "baxis": {
             "endlinecolor": "#2a3f5f",
             "gridcolor": "white",
             "linecolor": "white",
             "minorgridcolor": "white",
             "startlinecolor": "#2a3f5f"
            },
            "type": "carpet"
           }
          ],
          "choropleth": [
           {
            "colorbar": {
             "outlinewidth": 0,
             "ticks": ""
            },
            "type": "choropleth"
           }
          ],
          "contour": [
           {
            "colorbar": {
             "outlinewidth": 0,
             "ticks": ""
            },
            "colorscale": [
             [
              0,
              "#0d0887"
             ],
             [
              0.1111111111111111,
              "#46039f"
             ],
             [
              0.2222222222222222,
              "#7201a8"
             ],
             [
              0.3333333333333333,
              "#9c179e"
             ],
             [
              0.4444444444444444,
              "#bd3786"
             ],
             [
              0.5555555555555556,
              "#d8576b"
             ],
             [
              0.6666666666666666,
              "#ed7953"
             ],
             [
              0.7777777777777778,
              "#fb9f3a"
             ],
             [
              0.8888888888888888,
              "#fdca26"
             ],
             [
              1,
              "#f0f921"
             ]
            ],
            "type": "contour"
           }
          ],
          "contourcarpet": [
           {
            "colorbar": {
             "outlinewidth": 0,
             "ticks": ""
            },
            "type": "contourcarpet"
           }
          ],
          "heatmap": [
           {
            "colorbar": {
             "outlinewidth": 0,
             "ticks": ""
            },
            "colorscale": [
             [
              0,
              "#0d0887"
             ],
             [
              0.1111111111111111,
              "#46039f"
             ],
             [
              0.2222222222222222,
              "#7201a8"
             ],
             [
              0.3333333333333333,
              "#9c179e"
             ],
             [
              0.4444444444444444,
              "#bd3786"
             ],
             [
              0.5555555555555556,
              "#d8576b"
             ],
             [
              0.6666666666666666,
              "#ed7953"
             ],
             [
              0.7777777777777778,
              "#fb9f3a"
             ],
             [
              0.8888888888888888,
              "#fdca26"
             ],
             [
              1,
              "#f0f921"
             ]
            ],
            "type": "heatmap"
           }
          ],
          "heatmapgl": [
           {
            "colorbar": {
             "outlinewidth": 0,
             "ticks": ""
            },
            "colorscale": [
             [
              0,
              "#0d0887"
             ],
             [
              0.1111111111111111,
              "#46039f"
             ],
             [
              0.2222222222222222,
              "#7201a8"
             ],
             [
              0.3333333333333333,
              "#9c179e"
             ],
             [
              0.4444444444444444,
              "#bd3786"
             ],
             [
              0.5555555555555556,
              "#d8576b"
             ],
             [
              0.6666666666666666,
              "#ed7953"
             ],
             [
              0.7777777777777778,
              "#fb9f3a"
             ],
             [
              0.8888888888888888,
              "#fdca26"
             ],
             [
              1,
              "#f0f921"
             ]
            ],
            "type": "heatmapgl"
           }
          ],
          "histogram": [
           {
            "marker": {
             "pattern": {
              "fillmode": "overlay",
              "size": 10,
              "solidity": 0.2
             }
            },
            "type": "histogram"
           }
          ],
          "histogram2d": [
           {
            "colorbar": {
             "outlinewidth": 0,
             "ticks": ""
            },
            "colorscale": [
             [
              0,
              "#0d0887"
             ],
             [
              0.1111111111111111,
              "#46039f"
             ],
             [
              0.2222222222222222,
              "#7201a8"
             ],
             [
              0.3333333333333333,
              "#9c179e"
             ],
             [
              0.4444444444444444,
              "#bd3786"
             ],
             [
              0.5555555555555556,
              "#d8576b"
             ],
             [
              0.6666666666666666,
              "#ed7953"
             ],
             [
              0.7777777777777778,
              "#fb9f3a"
             ],
             [
              0.8888888888888888,
              "#fdca26"
             ],
             [
              1,
              "#f0f921"
             ]
            ],
            "type": "histogram2d"
           }
          ],
          "histogram2dcontour": [
           {
            "colorbar": {
             "outlinewidth": 0,
             "ticks": ""
            },
            "colorscale": [
             [
              0,
              "#0d0887"
             ],
             [
              0.1111111111111111,
              "#46039f"
             ],
             [
              0.2222222222222222,
              "#7201a8"
             ],
             [
              0.3333333333333333,
              "#9c179e"
             ],
             [
              0.4444444444444444,
              "#bd3786"
             ],
             [
              0.5555555555555556,
              "#d8576b"
             ],
             [
              0.6666666666666666,
              "#ed7953"
             ],
             [
              0.7777777777777778,
              "#fb9f3a"
             ],
             [
              0.8888888888888888,
              "#fdca26"
             ],
             [
              1,
              "#f0f921"
             ]
            ],
            "type": "histogram2dcontour"
           }
          ],
          "mesh3d": [
           {
            "colorbar": {
             "outlinewidth": 0,
             "ticks": ""
            },
            "type": "mesh3d"
           }
          ],
          "parcoords": [
           {
            "line": {
             "colorbar": {
              "outlinewidth": 0,
              "ticks": ""
             }
            },
            "type": "parcoords"
           }
          ],
          "pie": [
           {
            "automargin": true,
            "type": "pie"
           }
          ],
          "scatter": [
           {
            "fillpattern": {
             "fillmode": "overlay",
             "size": 10,
             "solidity": 0.2
            },
            "type": "scatter"
           }
          ],
          "scatter3d": [
           {
            "line": {
             "colorbar": {
              "outlinewidth": 0,
              "ticks": ""
             }
            },
            "marker": {
             "colorbar": {
              "outlinewidth": 0,
              "ticks": ""
             }
            },
            "type": "scatter3d"
           }
          ],
          "scattercarpet": [
           {
            "marker": {
             "colorbar": {
              "outlinewidth": 0,
              "ticks": ""
             }
            },
            "type": "scattercarpet"
           }
          ],
          "scattergeo": [
           {
            "marker": {
             "colorbar": {
              "outlinewidth": 0,
              "ticks": ""
             }
            },
            "type": "scattergeo"
           }
          ],
          "scattergl": [
           {
            "marker": {
             "colorbar": {
              "outlinewidth": 0,
              "ticks": ""
             }
            },
            "type": "scattergl"
           }
          ],
          "scattermapbox": [
           {
            "marker": {
             "colorbar": {
              "outlinewidth": 0,
              "ticks": ""
             }
            },
            "type": "scattermapbox"
           }
          ],
          "scatterpolar": [
           {
            "marker": {
             "colorbar": {
              "outlinewidth": 0,
              "ticks": ""
             }
            },
            "type": "scatterpolar"
           }
          ],
          "scatterpolargl": [
           {
            "marker": {
             "colorbar": {
              "outlinewidth": 0,
              "ticks": ""
             }
            },
            "type": "scatterpolargl"
           }
          ],
          "scatterternary": [
           {
            "marker": {
             "colorbar": {
              "outlinewidth": 0,
              "ticks": ""
             }
            },
            "type": "scatterternary"
           }
          ],
          "surface": [
           {
            "colorbar": {
             "outlinewidth": 0,
             "ticks": ""
            },
            "colorscale": [
             [
              0,
              "#0d0887"
             ],
             [
              0.1111111111111111,
              "#46039f"
             ],
             [
              0.2222222222222222,
              "#7201a8"
             ],
             [
              0.3333333333333333,
              "#9c179e"
             ],
             [
              0.4444444444444444,
              "#bd3786"
             ],
             [
              0.5555555555555556,
              "#d8576b"
             ],
             [
              0.6666666666666666,
              "#ed7953"
             ],
             [
              0.7777777777777778,
              "#fb9f3a"
             ],
             [
              0.8888888888888888,
              "#fdca26"
             ],
             [
              1,
              "#f0f921"
             ]
            ],
            "type": "surface"
           }
          ],
          "table": [
           {
            "cells": {
             "fill": {
              "color": "#EBF0F8"
             },
             "line": {
              "color": "white"
             }
            },
            "header": {
             "fill": {
              "color": "#C8D4E3"
             },
             "line": {
              "color": "white"
             }
            },
            "type": "table"
           }
          ]
         },
         "layout": {
          "annotationdefaults": {
           "arrowcolor": "#2a3f5f",
           "arrowhead": 0,
           "arrowwidth": 1
          },
          "autotypenumbers": "strict",
          "coloraxis": {
           "colorbar": {
            "outlinewidth": 0,
            "ticks": ""
           }
          },
          "colorscale": {
           "diverging": [
            [
             0,
             "#8e0152"
            ],
            [
             0.1,
             "#c51b7d"
            ],
            [
             0.2,
             "#de77ae"
            ],
            [
             0.3,
             "#f1b6da"
            ],
            [
             0.4,
             "#fde0ef"
            ],
            [
             0.5,
             "#f7f7f7"
            ],
            [
             0.6,
             "#e6f5d0"
            ],
            [
             0.7,
             "#b8e186"
            ],
            [
             0.8,
             "#7fbc41"
            ],
            [
             0.9,
             "#4d9221"
            ],
            [
             1,
             "#276419"
            ]
           ],
           "sequential": [
            [
             0,
             "#0d0887"
            ],
            [
             0.1111111111111111,
             "#46039f"
            ],
            [
             0.2222222222222222,
             "#7201a8"
            ],
            [
             0.3333333333333333,
             "#9c179e"
            ],
            [
             0.4444444444444444,
             "#bd3786"
            ],
            [
             0.5555555555555556,
             "#d8576b"
            ],
            [
             0.6666666666666666,
             "#ed7953"
            ],
            [
             0.7777777777777778,
             "#fb9f3a"
            ],
            [
             0.8888888888888888,
             "#fdca26"
            ],
            [
             1,
             "#f0f921"
            ]
           ],
           "sequentialminus": [
            [
             0,
             "#0d0887"
            ],
            [
             0.1111111111111111,
             "#46039f"
            ],
            [
             0.2222222222222222,
             "#7201a8"
            ],
            [
             0.3333333333333333,
             "#9c179e"
            ],
            [
             0.4444444444444444,
             "#bd3786"
            ],
            [
             0.5555555555555556,
             "#d8576b"
            ],
            [
             0.6666666666666666,
             "#ed7953"
            ],
            [
             0.7777777777777778,
             "#fb9f3a"
            ],
            [
             0.8888888888888888,
             "#fdca26"
            ],
            [
             1,
             "#f0f921"
            ]
           ]
          },
          "colorway": [
           "#636efa",
           "#EF553B",
           "#00cc96",
           "#ab63fa",
           "#FFA15A",
           "#19d3f3",
           "#FF6692",
           "#B6E880",
           "#FF97FF",
           "#FECB52"
          ],
          "font": {
           "color": "#2a3f5f"
          },
          "geo": {
           "bgcolor": "white",
           "lakecolor": "white",
           "landcolor": "#E5ECF6",
           "showlakes": true,
           "showland": true,
           "subunitcolor": "white"
          },
          "hoverlabel": {
           "align": "left"
          },
          "hovermode": "closest",
          "mapbox": {
           "style": "light"
          },
          "paper_bgcolor": "white",
          "plot_bgcolor": "#E5ECF6",
          "polar": {
           "angularaxis": {
            "gridcolor": "white",
            "linecolor": "white",
            "ticks": ""
           },
           "bgcolor": "#E5ECF6",
           "radialaxis": {
            "gridcolor": "white",
            "linecolor": "white",
            "ticks": ""
           }
          },
          "scene": {
           "xaxis": {
            "backgroundcolor": "#E5ECF6",
            "gridcolor": "white",
            "gridwidth": 2,
            "linecolor": "white",
            "showbackground": true,
            "ticks": "",
            "zerolinecolor": "white"
           },
           "yaxis": {
            "backgroundcolor": "#E5ECF6",
            "gridcolor": "white",
            "gridwidth": 2,
            "linecolor": "white",
            "showbackground": true,
            "ticks": "",
            "zerolinecolor": "white"
           },
           "zaxis": {
            "backgroundcolor": "#E5ECF6",
            "gridcolor": "white",
            "gridwidth": 2,
            "linecolor": "white",
            "showbackground": true,
            "ticks": "",
            "zerolinecolor": "white"
           }
          },
          "shapedefaults": {
           "line": {
            "color": "#2a3f5f"
           }
          },
          "ternary": {
           "aaxis": {
            "gridcolor": "white",
            "linecolor": "white",
            "ticks": ""
           },
           "baxis": {
            "gridcolor": "white",
            "linecolor": "white",
            "ticks": ""
           },
           "bgcolor": "#E5ECF6",
           "caxis": {
            "gridcolor": "white",
            "linecolor": "white",
            "ticks": ""
           }
          },
          "title": {
           "x": 0.05
          },
          "xaxis": {
           "automargin": true,
           "gridcolor": "white",
           "linecolor": "white",
           "ticks": "",
           "title": {
            "standoff": 15
           },
           "zerolinecolor": "white",
           "zerolinewidth": 2
          },
          "yaxis": {
           "automargin": true,
           "gridcolor": "white",
           "linecolor": "white",
           "ticks": "",
           "title": {
            "standoff": 15
           },
           "zerolinecolor": "white",
           "zerolinewidth": 2
          }
         }
        },
        "title": {
         "text": "Price Elasticity by Country"
        },
        "xaxis": {
         "anchor": "y",
         "domain": [
          0,
          1
         ],
         "title": {
          "text": "Country"
         }
        },
        "yaxis": {
         "anchor": "x",
         "domain": [
          0,
          1
         ],
         "title": {
          "text": "Price_Elasticity"
         }
        }
       }
      }
     },
     "metadata": {},
     "output_type": "display_data"
    },
    {
     "name": "stdout",
     "output_type": "stream",
     "text": [
      "\n",
      "🎉 ANALYSIS COMPLETED!\n",
      "📁 Results saved in: price_elasticity_analysis/\n",
      "📊 Dashboard: price_elasticity_dashboard.html\n"
     ]
    }
   ],
   "source": [
    "import polars as pl\n",
    "import plotly.express as px\n",
    "import plotly.graph_objects as go\n",
    "from plotly.subplots import make_subplots\n",
    "import numpy as np\n",
    "import pandas as pd\n",
    "from sklearn.linear_model import LinearRegression\n",
    "import statsmodels.api as sm\n",
    "import os\n",
    "\n",
    "def load_master_data():\n",
    "    \"\"\"Load master transaction data\"\"\"\n",
    "    print(\"📊 Loading Master Data...\")\n",
    "    master_data = pl.read_parquet(\"data/master_transactions.parquet\")\n",
    "    sales_data = master_data.filter(pl.col(\"Transaction Type\") == \"Sale\")\n",
    "    print(f\"✓ Loaded {sales_data.shape[0]:,} sales transactions\")\n",
    "    return sales_data\n",
    "\n",
    "def prepare_analysis_datasets(sales_data):\n",
    "    \"\"\"Prepare datasets for analysis\"\"\"\n",
    "    print(\"📋 Preparing Analysis Datasets...\")\n",
    "    \n",
    "    # Create output directory\n",
    "    os.makedirs(\"price_elasticity_analysis\", exist_ok=True)\n",
    "    \n",
    "    # 1. Price Elasticity by Country\n",
    "    print(\"  Computing price elasticity...\")\n",
    "    countries = sales_data[\"Country\"].unique().to_list()\n",
    "    elasticity_results = []\n",
    "    \n",
    "    for country in countries:\n",
    "        country_data = sales_data.filter(pl.col(\"Country\") == country)\n",
    "        df = country_data.select([\"Unit_Price_USD\", \"Quantity\"]).to_pandas().dropna()\n",
    "        df = df[(df['Unit_Price_USD'] > 0) & (df['Quantity'] > 0)]\n",
    "        \n",
    "        if len(df) < 50:\n",
    "            continue\n",
    "        \n",
    "        # Calculate elasticity using price deciles\n",
    "        df['Price_Decile'] = pd.qcut(df['Unit_Price_USD'], q=10, labels=False, duplicates='drop')\n",
    "        price_demand = df.groupby('Price_Decile').agg({\n",
    "            'Unit_Price_USD': 'mean',\n",
    "            'Quantity': 'sum'\n",
    "        }).reset_index()\n",
    "        \n",
    "        if len(price_demand) < 5:\n",
    "            continue\n",
    "        \n",
    "        # Log-log regression for elasticity\n",
    "        log_price = np.log(price_demand['Unit_Price_USD'])\n",
    "        log_qty = np.log(price_demand['Quantity'])\n",
    "        mask = np.isfinite(log_price) & np.isfinite(log_qty)\n",
    "        \n",
    "        if mask.sum() >= 3:\n",
    "            from scipy import stats\n",
    "            slope, _, _, _, _ = stats.linregress(log_price[mask], log_qty[mask])\n",
    "            elasticity_results.append({\n",
    "                'Country': country,\n",
    "                'Price_Elasticity': round(abs(slope), 4)\n",
    "            })\n",
    "    \n",
    "    elasticity_df = pl.DataFrame(elasticity_results)\n",
    "    elasticity_df.write_csv(\"price_elasticity_analysis/price_elasticity_data.csv\")\n",
    "    \n",
    "    # 2. Sales vs Quantity Analysis Datasets\n",
    "    datasets = {}\n",
    "    \n",
    "    # Employee Analysis\n",
    "    datasets['employee'] = sales_data.group_by(\"Employee ID\").agg([\n",
    "        pl.col(\"Line_Total_USD\").sum().alias(\"Sales\"),\n",
    "        pl.col(\"Quantity\").sum().alias(\"Qty\")\n",
    "    ]).filter(pl.col(\"Sales\") > 0)\n",
    "    \n",
    "    # Country Analysis\n",
    "    datasets['country'] = sales_data.group_by(\"Country\").agg([\n",
    "        pl.col(\"Line_Total_USD\").sum().alias(\"Sales\"),\n",
    "        pl.col(\"Quantity\").sum().alias(\"Qty\"),\n",
    "        pl.col(\"Employee ID\").n_unique().alias(\"Staff_Count\")\n",
    "    ])\n",
    "    \n",
    "    # City Analysis\n",
    "    datasets['city'] = sales_data.group_by([\"City\", \"Country\"]).agg([\n",
    "        pl.col(\"Line_Total_USD\").sum().alias(\"Sales\"),\n",
    "        pl.col(\"Quantity\").sum().alias(\"Qty\")\n",
    "    ])\n",
    "    \n",
    "    # Customer Analysis\n",
    "    datasets['customer'] = sales_data.group_by(\"Customer ID\").agg([\n",
    "        pl.col(\"Line_Total_USD\").sum().alias(\"Sales\"),\n",
    "        pl.col(\"Quantity\").sum().alias(\"Qty\")\n",
    "    ]).filter(pl.col(\"Sales\") > 0)\n",
    "    \n",
    "    # Product Analysis\n",
    "    datasets['product'] = sales_data.group_by(\"Name\").agg([\n",
    "        pl.col(\"Line_Total_USD\").sum().alias(\"Sales\"),\n",
    "        pl.col(\"Quantity\").sum().alias(\"Qty\")\n",
    "    ]).filter(pl.col(\"Sales\") > 0)\n",
    "    \n",
    "    # Save all datasets\n",
    "    for name, data in datasets.items():\n",
    "        data.write_csv(f\"price_elasticity_analysis/{name}_analysis_data.csv\")\n",
    "    \n",
    "    # 3. Multiple Regression Dataset (Country level)\n",
    "    multiple_reg_data = datasets['country'].filter(pl.col(\"Staff_Count\") > 0)\n",
    "    multiple_reg_data.write_csv(\"price_elasticity_analysis/multiple_regression_data.csv\")\n",
    "    \n",
    "    print(f\"✓ Prepared {len(datasets)} analysis datasets + elasticity + multiple regression\")\n",
    "\n",
    "def perform_regression_analysis():\n",
    "    \"\"\"Perform regression analysis from saved datasets\"\"\"\n",
    "    print(\"📈 Performing Regression Analysis...\")\n",
    "    \n",
    "    ols_summary_data = []\n",
    "    \n",
    "    # Analysis types\n",
    "    analysis_types = ['employee', 'country', 'city', 'customer', 'product']\n",
    "    \n",
    "    for analysis_type in analysis_types:\n",
    "        # Load data\n",
    "        df = pl.read_csv(f\"price_elasticity_analysis/{analysis_type}_analysis_data.csv\").to_pandas()\n",
    "        df = df.dropna()\n",
    "        df = df[(df['Sales'] > 0) & (df['Qty'] > 0)]\n",
    "        \n",
    "        if len(df) < 3:\n",
    "            continue\n",
    "        \n",
    "        # OLS Regression: Sales = coefficient * Qty + intercept\n",
    "        X = df['Qty'].values\n",
    "        y = df['Sales'].values\n",
    "        X_ols = sm.add_constant(X)\n",
    "        model = sm.OLS(y, X_ols).fit()\n",
    "        \n",
    "        # Extract statistics\n",
    "        intercept = model.params[0]\n",
    "        coefficient = model.params[1]\n",
    "        r2 = model.rsquared\n",
    "        p_value = model.pvalues[1]\n",
    "        \n",
    "        # Add to OLS summary\n",
    "        ols_summary_data.append({\n",
    "            'Analysis_Type': analysis_type.title(),\n",
    "            'Equation': f\"Sales = {coefficient:.1f} × Qty + {intercept:.0f}\",\n",
    "            'R_Squared': f\"{r2:.4f}\",\n",
    "            'P_Value': f\"{p_value:.6f}\",\n",
    "            'Coefficient': f\"{coefficient:.2f}\",\n",
    "            'Intercept': f\"{intercept:.2f}\",\n",
    "            'Data_Points': len(df)\n",
    "        })\n",
    "    \n",
    "    # Multiple Regression\n",
    "    df_multi = pl.read_csv(\"price_elasticity_analysis/multiple_regression_data.csv\").to_pandas().dropna()\n",
    "    \n",
    "    if len(df_multi) >= 3 and 'Staff_Count' in df_multi.columns:\n",
    "        X_multi = df_multi[['Staff_Count', 'Qty']].values\n",
    "        y_multi = df_multi['Sales'].values\n",
    "        X_multi_ols = sm.add_constant(X_multi)\n",
    "        model_multi = sm.OLS(y_multi, X_multi_ols).fit()\n",
    "        \n",
    "        intercept_multi = model_multi.params[0]\n",
    "        coef_staff = model_multi.params[1]\n",
    "        coef_qty = model_multi.params[2]\n",
    "        r2_multi = model_multi.rsquared\n",
    "        p_value_multi = model_multi.f_pvalue\n",
    "        \n",
    "        # Add to OLS summary\n",
    "        ols_summary_data.append({\n",
    "            'Analysis_Type': 'Multiple Regression',\n",
    "            'Equation': f\"Sales = {coef_staff:.1f} × Staff + {coef_qty:.1f} × Qty + {intercept_multi:.0f}\",\n",
    "            'R_Squared': f\"{r2_multi:.4f}\",\n",
    "            'P_Value': f\"{p_value_multi:.6f}\",\n",
    "            'Coefficient': f\"Staff:{coef_staff:.1f}, Qty:{coef_qty:.1f}\",\n",
    "            'Intercept': f\"{intercept_multi:.2f}\",\n",
    "            'Data_Points': len(df_multi)\n",
    "        })\n",
    "    \n",
    "    # Save OLS Summary\n",
    "    ols_summary_df = pl.DataFrame(ols_summary_data)\n",
    "    ols_summary_df.write_csv(\"price_elasticity_analysis/ols_summary.csv\")\n",
    "    \n",
    "    print(\"✓ Regression analysis completed\")\n",
    "\n",
    "def create_dashboard():\n",
    "    \"\"\"Create dashboard using same logic as workforce productivity\"\"\"\n",
    "    print(\"📊 Creating Dashboard...\")\n",
    "    \n",
    "    # Load data from CSV files\n",
    "    elasticity_df = pl.read_csv(\"price_elasticity_analysis/price_elasticity_data.csv\").to_pandas()\n",
    "    ols_summary_df = pl.read_csv(\"price_elasticity_analysis/ols_summary.csv\").to_pandas()\n",
    "    \n",
    "    # Create individual figures first (same as workforce dashboard)\n",
    "    figures = []\n",
    "    \n",
    "    # 1. Price Elasticity Chart\n",
    "    fig1 = px.bar(\n",
    "        elasticity_df, \n",
    "        x='Country', \n",
    "        y='Price_Elasticity',\n",
    "        title='Price Elasticity by Country',\n",
    "        text='Price_Elasticity'\n",
    "    )\n",
    "    fig1.update_traces(texttemplate='%{text:.4f}', textposition='outside')\n",
    "    fig1.update_layout(height=400)\n",
    "    figures.append(fig1)\n",
    "    \n",
    "    # 2. OLS Summary Table\n",
    "    fig2 = go.Figure(data=[go.Table(\n",
    "        header=dict(values=list(ols_summary_df.columns),\n",
    "                   fill_color='lightblue',\n",
    "                   align='center'),\n",
    "        cells=dict(values=[ols_summary_df[col] for col in ols_summary_df.columns],\n",
    "                  fill_color='white',\n",
    "                  align='center')\n",
    "    )])\n",
    "    fig2.update_layout(title=\"OLS Summary Statistics\", height=400)\n",
    "    figures.append(fig2)\n",
    "    \n",
    "    # 3-7. Sales vs Quantity Regression Charts\n",
    "    analysis_types = ['employee', 'country', 'city', 'customer', 'product']\n",
    "    \n",
    "    for analysis_type in analysis_types:\n",
    "        try:\n",
    "            df = pl.read_csv(f\"price_elasticity_analysis/{analysis_type}_analysis_data.csv\").to_pandas()\n",
    "            df = df.dropna()\n",
    "            df = df[(df['Sales'] > 0) & (df['Qty'] > 0)]\n",
    "            \n",
    "            if len(df) < 3:\n",
    "                continue\n",
    "            \n",
    "            # Calculate regression\n",
    "            X = df['Qty'].values\n",
    "            y = df['Sales'].values\n",
    "            X_ols = sm.add_constant(X)\n",
    "            model = sm.OLS(y, X_ols).fit()\n",
    "            y_pred = model.params[0] + model.params[1] * X\n",
    "            \n",
    "            # Calculate medians\n",
    "            sales_median = df['Sales'].median()\n",
    "            qty_median = df['Qty'].median()\n",
    "            \n",
    "            # Create scatter plot\n",
    "            fig = go.Figure()\n",
    "            \n",
    "            # Add scatter points\n",
    "            fig.add_trace(go.Scatter(\n",
    "                x=df['Qty'],\n",
    "                y=df['Sales'],\n",
    "                mode='markers',\n",
    "                name='Data Points',\n",
    "                marker=dict(size=6, opacity=0.6)\n",
    "            ))\n",
    "            \n",
    "            # Add regression line\n",
    "            fig.add_trace(go.Scatter(\n",
    "                x=df['Qty'],\n",
    "                y=y_pred,\n",
    "                mode='lines',\n",
    "                name='Regression Line',\n",
    "                line=dict(color='red', width=2)\n",
    "            ))\n",
    "            \n",
    "            # Add median lines\n",
    "            fig.add_shape(\n",
    "                type=\"line\",\n",
    "                x0=qty_median, y0=df['Sales'].min(),\n",
    "                x1=qty_median, y1=df['Sales'].max(),\n",
    "                line=dict(color=\"gray\", width=1, dash=\"dash\")\n",
    "            )\n",
    "            \n",
    "            fig.add_shape(\n",
    "                type=\"line\",\n",
    "                x0=df['Qty'].min(), y0=sales_median,\n",
    "                x1=df['Qty'].max(), y1=sales_median,\n",
    "                line=dict(color=\"gray\", width=1, dash=\"dash\")\n",
    "            )\n",
    "            \n",
    "            # Add equation annotation\n",
    "            equation = f\"Sales = {model.params[1]:.1f} × Qty + {model.params[0]:.0f}\"\n",
    "            r2 = model.rsquared\n",
    "            \n",
    "            fig.add_annotation(\n",
    "                x=0.05, y=0.95,\n",
    "                xref=\"paper\", yref=\"paper\",\n",
    "                text=f\"{equation}<br>R² = {r2:.3f}\",\n",
    "                showarrow=False,\n",
    "                font=dict(size=12),\n",
    "                bgcolor=\"rgba(255,255,255,0.8)\",\n",
    "                bordercolor=\"gray\",\n",
    "                borderwidth=1\n",
    "            )\n",
    "            \n",
    "            fig.update_layout(\n",
    "                title=f'{analysis_type.title()}: Sales vs Quantity',\n",
    "                xaxis_title='Quantity',\n",
    "                yaxis_title='Sales (USD)',\n",
    "                height=400\n",
    "            )\n",
    "            \n",
    "            figures.append(fig)\n",
    "            \n",
    "        except Exception as e:\n",
    "            print(f\"  ⚠️ Could not create chart for {analysis_type}: {e}\")\n",
    "            continue\n",
    "    \n",
    "    # 8. Multiple Regression 3D\n",
    "    try:\n",
    "        multiple_reg_data = pl.read_csv(\"price_elasticity_analysis/multiple_regression_data.csv\").to_pandas()\n",
    "        \n",
    "        if len(multiple_reg_data) >= 3:\n",
    "            fig3d = go.Figure(data=[go.Scatter3d(\n",
    "                x=multiple_reg_data['Staff_Count'],\n",
    "                y=multiple_reg_data['Qty'],\n",
    "                z=multiple_reg_data['Sales'],\n",
    "                mode='markers+text',\n",
    "                text=multiple_reg_data['Country'] if 'Country' in multiple_reg_data.columns else None,\n",
    "                marker=dict(\n",
    "                    size=8,\n",
    "                    color=multiple_reg_data['Sales'],\n",
    "                    colorscale='Viridis',\n",
    "                    showscale=True\n",
    "                )\n",
    "            )])\n",
    "            \n",
    "            fig3d.update_layout(\n",
    "                title='Multiple Regression: Sales = f(Staff Count, Quantity)',\n",
    "                scene=dict(\n",
    "                    xaxis_title='Staff Count',\n",
    "                    yaxis_title='Quantity',\n",
    "                    zaxis_title='Sales (USD)'\n",
    "                ),\n",
    "                height=500\n",
    "            )\n",
    "            \n",
    "            figures.append(fig3d)\n",
    "    except:\n",
    "        pass\n",
    "    \n",
    "    # Combine all figures into dashboard (same as workforce dashboard)\n",
    "    dashboard_html = \"\"\"\n",
    "    <!DOCTYPE html>\n",
    "    <html>\n",
    "    <head>\n",
    "        <title>Price Elasticity & Regression Analysis Dashboard</title>\n",
    "        <style>\n",
    "            body { font-family: Arial, sans-serif; margin: 20px; }\n",
    "            .chart-container { margin-bottom: 30px; }\n",
    "            h1 { text-align: center; color: #2E86AB; }\n",
    "        </style>\n",
    "    </head>\n",
    "    <body>\n",
    "        <h1>Price Elasticity & Sales-Quantity Regression Analysis Dashboard</h1>\n",
    "    \"\"\"\n",
    "    \n",
    "    # Add each figure to HTML\n",
    "    for i, fig in enumerate(figures):\n",
    "        chart_html = fig.to_html(include_plotlyjs='inline' if i == 0 else False, div_id=f\"chart_{i}\")\n",
    "        dashboard_html += f'<div class=\"chart-container\">{chart_html}</div>'\n",
    "    \n",
    "    dashboard_html += \"\"\"\n",
    "    </body>\n",
    "    </html>\n",
    "    \"\"\"\n",
    "    \n",
    "    # Save dashboard\n",
    "    with open(\"price_elasticity_analysis/price_elasticity_dashboard.html\", \"w\", encoding='utf-8') as f:\n",
    "        f.write(dashboard_html)\n",
    "    \n",
    "    print(\"✓ Dashboard saved as: price_elasticity_dashboard.html\")\n",
    "    \n",
    "    # Return first figure for display\n",
    "    return figures[0] if figures else None\n",
    "\n",
    "def main():\n",
    "    \"\"\"Main analysis pipeline\"\"\"\n",
    "    print(\"🚀 PRICE ELASTICITY & REGRESSION ANALYSIS\")\n",
    "    print(\"=\" * 60)\n",
    "    \n",
    "    # Step 1: Load master data\n",
    "    sales_data = load_master_data()\n",
    "    \n",
    "    # Step 2: Prepare analysis datasets and save to CSV\n",
    "    prepare_analysis_datasets(sales_data)\n",
    "    \n",
    "    # Step 3: Perform regression analysis from CSV data\n",
    "    perform_regression_analysis()\n",
    "    \n",
    "    # Step 4: Create dashboard from CSV data\n",
    "    dashboard_fig = create_dashboard()\n",
    "    \n",
    "    # Step 5: Display first chart\n",
    "    if dashboard_fig:\n",
    "        print(\"\\n📊 Displaying Sample Chart...\")\n",
    "        dashboard_fig.show()\n",
    "    \n",
    "    print(\"\\n🎉 ANALYSIS COMPLETED!\")\n",
    "    print(\"📁 Results saved in: price_elasticity_analysis/\")\n",
    "    print(\"📊 Dashboard: price_elasticity_dashboard.html\")\n",
    "\n",
    "if __name__ == \"__main__\":\n",
    "    main()\n"
   ]
  },
  {
   "cell_type": "code",
   "execution_count": 6,
   "id": "4e7cfd77",
   "metadata": {},
   "outputs": [
    {
     "name": "stdout",
     "output_type": "stream",
     "text": [
      "🚀 OLS REGRESSION ANALYSIS BY STORE\n",
      "Model: Total_Sales = β₀ + β₁×Staff_Count + β₂×Total_Quantity + ε\n",
      "Aggregation Level: Store ID\n",
      "======================================================================\n",
      "📊 Loading Master Data...\n",
      "✓ Loaded 6,077,200 sales transactions\n",
      "📋 Preparing Regression Dataset by Store ID...\n",
      "✓ Dataset prepared: 35 stores\n",
      "✓ Variables: Total_Sales, Staff_Count, Total_Quantity\n",
      "📈 Running OLS Regression...\n",
      "✓ Analysis dataset: 35 stores\n",
      "✓ Variables: ['Store ID', 'Total_Sales', 'Staff_Count', 'Total_Quantity']\n",
      "\n",
      "================================================================================\n",
      "OLS REGRESSION RESULTS\n",
      "Total_Sales = β₀ + β₁×Staff_Count + β₂×Total_Quantity + ε\n",
      "================================================================================\n",
      "                            OLS Regression Results                            \n",
      "==============================================================================\n",
      "Dep. Variable:            Total_Sales   R-squared:                       0.990\n",
      "Model:                            OLS   Adj. R-squared:                  0.989\n",
      "Method:                 Least Squares   F-statistic:                     1560.\n",
      "Date:                Sun, 03 Aug 2025   Prob (F-statistic):           1.27e-32\n",
      "Time:                        13:38:15   Log-Likelihood:                -512.46\n",
      "No. Observations:                  35   AIC:                             1031.\n",
      "Df Residuals:                      32   BIC:                             1036.\n",
      "Df Model:                           2                                         \n",
      "Covariance Type:            nonrobust                                         \n",
      "==================================================================================\n",
      "                     coef    std err          t      P>|t|      [0.025      0.975]\n",
      "----------------------------------------------------------------------------------\n",
      "const          -1.416e+06   6.76e+05     -2.095      0.044   -2.79e+06   -3.95e+04\n",
      "Staff_Count     1.503e+05   9.28e+04      1.619      0.115   -3.88e+04    3.39e+05\n",
      "Total_Quantity    47.2269      0.896     52.734      0.000      45.403      49.051\n",
      "==============================================================================\n",
      "Omnibus:                        2.179   Durbin-Watson:                   1.674\n",
      "Prob(Omnibus):                  0.336   Jarque-Bera (JB):                1.299\n",
      "Skew:                          -0.456   Prob(JB):                        0.522\n",
      "Kurtosis:                       3.247   Cond. No.                     1.55e+06\n",
      "==============================================================================\n",
      "\n",
      "Notes:\n",
      "[1] Standard Errors assume that the covariance matrix of the errors is correctly specified.\n",
      "[2] The condition number is large, 1.55e+06. This might indicate that there are\n",
      "strong multicollinearity or other numerical problems.\n",
      "\n",
      "📊 DATASET SUMMARY:\n",
      "   Stores analyzed: 35\n",
      "   Total Sales range: $3,212,839 - $22,479,566\n",
      "   Staff Count range: 6 - 9\n",
      "   Total Quantity range: 70,218 - 497,826\n",
      "\n",
      "✓ Results saved to: ols_regression_results/\n",
      "✓ Summary: regression_summary.txt\n",
      "✓ Coefficients: coefficients_table.csv\n",
      "\n",
      "🎉 OLS REGRESSION COMPLETED!\n"
     ]
    }
   ],
   "source": [
    "import polars as pl\n",
    "import pandas as pd\n",
    "import statsmodels.api as sm\n",
    "import os\n",
    "\n",
    "def load_master_data():\n",
    "    \"\"\"Load master transaction data\"\"\"\n",
    "    print(\"📊 Loading Master Data...\")\n",
    "    master_data = pl.read_parquet(\"data/master_transactions.parquet\")\n",
    "    sales_data = master_data.filter(pl.col(\"Transaction Type\") == \"Sale\")\n",
    "    print(f\"✓ Loaded {sales_data.shape[0]:,} sales transactions\")\n",
    "    return sales_data\n",
    "\n",
    "def prepare_regression_data(sales_data):\n",
    "    \"\"\"Prepare data for multiple regression - aggregated by Store ID\"\"\"\n",
    "    print(\"📋 Preparing Regression Dataset by Store ID...\")\n",
    "    \n",
    "    # Create output directory\n",
    "    os.makedirs(\"ols_regression_results\", exist_ok=True)\n",
    "    \n",
    "    # Aggregate by Store ID\n",
    "    regression_data = sales_data.group_by(\"Store ID\").agg([\n",
    "        pl.col(\"Line_Total_USD\").sum().alias(\"Total_Sales\"),\n",
    "        pl.col(\"Employee ID\").n_unique().alias(\"Staff_Count\"),\n",
    "        pl.col(\"Quantity\").sum().alias(\"Total_Quantity\")\n",
    "    ]).filter(\n",
    "        (pl.col(\"Total_Sales\") > 0) & \n",
    "        (pl.col(\"Staff_Count\") > 0) & \n",
    "        (pl.col(\"Total_Quantity\") > 0)\n",
    "    )\n",
    "    \n",
    "    # Save dataset\n",
    "    regression_data.write_csv(\"ols_regression_results/regression_data.csv\")\n",
    "    \n",
    "    print(f\"✓ Dataset prepared: {regression_data.shape[0]} stores\")\n",
    "    print(\"✓ Variables: Total_Sales, Staff_Count, Total_Quantity\")\n",
    "    return regression_data\n",
    "\n",
    "def run_ols_regression():\n",
    "    \"\"\"Run OLS regression and display results table\"\"\"\n",
    "    print(\"📈 Running OLS Regression...\")\n",
    "    \n",
    "    # Load data\n",
    "    df = pl.read_csv(\"ols_regression_results/regression_data.csv\").to_pandas()\n",
    "    df = df.dropna()\n",
    "    \n",
    "    print(f\"✓ Analysis dataset: {len(df)} stores\")\n",
    "    print(f\"✓ Variables: {list(df.columns)}\")\n",
    "    \n",
    "    # Define variables\n",
    "    Y = df['Total_Sales']  # Dependent variable\n",
    "    X = df[['Staff_Count', 'Total_Quantity']]  # Independent variables\n",
    "    \n",
    "    # Add constant (intercept)\n",
    "    X = sm.add_constant(X)\n",
    "    \n",
    "    # Fit OLS model\n",
    "    model = sm.OLS(Y, X).fit()\n",
    "    \n",
    "    # Print the regression results table\n",
    "    print(\"\\n\" + \"=\"*80)\n",
    "    print(\"OLS REGRESSION RESULTS\")\n",
    "    print(\"Total_Sales = β₀ + β₁×Staff_Count + β₂×Total_Quantity + ε\")\n",
    "    print(\"=\"*80)\n",
    "    print(model.summary())\n",
    "    \n",
    "    # Save results to file\n",
    "    with open(\"ols_regression_results/regression_summary.txt\", \"w\") as f:\n",
    "        f.write(\"OLS REGRESSION RESULTS\\n\")\n",
    "        f.write(\"Total_Sales = β₀ + β₁×Staff_Count + β₂×Total_Quantity + ε\\n\")\n",
    "        f.write(\"=\"*80 + \"\\n\")\n",
    "        f.write(str(model.summary()))\n",
    "    \n",
    "    # Save coefficients table\n",
    "    results_df = pd.DataFrame({\n",
    "        'Variable': ['const', 'Staff_Count', 'Total_Quantity'],\n",
    "        'Coefficient': model.params.values,\n",
    "        'Std_Error': model.bse.values,\n",
    "        't_Statistic': model.tvalues.values,\n",
    "        'P_Value': model.pvalues.values,\n",
    "        'Conf_Int_Lower': model.conf_int()[0].values,\n",
    "        'Conf_Int_Upper': model.conf_int()[1].values\n",
    "    })\n",
    "    \n",
    "    results_df.to_csv(\"ols_regression_results/coefficients_table.csv\", index=False)\n",
    "    \n",
    "    # Print summary statistics\n",
    "    print(f\"\\n📊 DATASET SUMMARY:\")\n",
    "    print(f\"   Stores analyzed: {len(df)}\")\n",
    "    print(f\"   Total Sales range: ${df['Total_Sales'].min():,.0f} - ${df['Total_Sales'].max():,.0f}\")\n",
    "    print(f\"   Staff Count range: {df['Staff_Count'].min()} - {df['Staff_Count'].max()}\")\n",
    "    print(f\"   Total Quantity range: {df['Total_Quantity'].min():,.0f} - {df['Total_Quantity'].max():,.0f}\")\n",
    "    \n",
    "    print(f\"\\n✓ Results saved to: ols_regression_results/\")\n",
    "    print(f\"✓ Summary: regression_summary.txt\")\n",
    "    print(f\"✓ Coefficients: coefficients_table.csv\")\n",
    "    \n",
    "    return model\n",
    "\n",
    "def main():\n",
    "    \"\"\"Main function - OLS regression by Store ID\"\"\"\n",
    "    print(\"🚀 OLS REGRESSION ANALYSIS BY STORE\")\n",
    "    print(\"Model: Total_Sales = β₀ + β₁×Staff_Count + β₂×Total_Quantity + ε\")\n",
    "    print(\"Aggregation Level: Store ID\")\n",
    "    print(\"=\"*70)\n",
    "    \n",
    "    # Load data\n",
    "    sales_data = load_master_data()\n",
    "    \n",
    "    # Prepare regression dataset by Store ID\n",
    "    regression_data = prepare_regression_data(sales_data)\n",
    "    \n",
    "    # Run OLS regression and display table\n",
    "    model = run_ols_regression()\n",
    "    \n",
    "    print(\"\\n🎉 OLS REGRESSION COMPLETED!\")\n",
    "\n",
    "if __name__ == \"__main__\":\n",
    "    main()\n"
   ]
  },
  {
   "cell_type": "code",
   "execution_count": null,
   "id": "ad56b360",
   "metadata": {},
   "outputs": [],
   "source": []
  }
 ],
 "metadata": {
  "kernelspec": {
   "display_name": "base",
   "language": "python",
   "name": "python3"
  },
  "language_info": {
   "codemirror_mode": {
    "name": "ipython",
    "version": 3
   },
   "file_extension": ".py",
   "mimetype": "text/x-python",
   "name": "python",
   "nbconvert_exporter": "python",
   "pygments_lexer": "ipython3",
   "version": "3.12.7"
  }
 },
 "nbformat": 4,
 "nbformat_minor": 5
}
